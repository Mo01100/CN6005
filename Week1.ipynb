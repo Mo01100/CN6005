{
  "nbformat": 4,
  "nbformat_minor": 0,
  "metadata": {
    "colab": {
      "provenance": []
    },
    "kernelspec": {
      "name": "python3",
      "display_name": "Python 3"
    },
    "language_info": {
      "name": "python"
    }
  },
  "cells": [
    {
      "cell_type": "code",
      "execution_count": 12,
      "metadata": {
        "colab": {
          "base_uri": "https://localhost:8080/"
        },
        "id": "FkCRjb_DGd5y",
        "outputId": "48700409-3b1e-4c39-f844-ab169ad3a1e0"
      },
      "outputs": [
        {
          "output_type": "stream",
          "name": "stdout",
          "text": [
            "1 8 15 22 29 36 43 50 57 64 71 78 85 92 99 106 113 120 "
          ]
        }
      ],
      "source": [
        "for z in range(1,127,7):\n",
        "    print(z, end=\" \")\n"
      ]
    },
    {
      "cell_type": "markdown",
      "source": [
        "1 = is the first number\n",
        "127 = is the maximum range of the number\n",
        "7 = is the arithmetic sequence that it is going so each time +7"
      ],
      "metadata": {
        "id": "2LW_Q7DTTlX1"
      }
    },
    {
      "cell_type": "code",
      "source": [
        "a=[2,4,6,8,9,12,15]\n",
        "print(f\"total members in list is {len(a)}\")\n",
        "print(a[2])\n",
        "a[5]=14\n",
        "print(a[5])\n",
        "print(min(a),max(a))\n",
        "a.append(2234)\n",
        "print(f\"total members in list is {len(a)}\")\n",
        "\n",
        "print(a[7])\n"
      ],
      "metadata": {
        "colab": {
          "base_uri": "https://localhost:8080/"
        },
        "id": "AW62AkyyUD9L",
        "outputId": "ff1352c5-17b4-45b6-ef7e-ec61d88cf4a0"
      },
      "execution_count": 13,
      "outputs": [
        {
          "output_type": "stream",
          "name": "stdout",
          "text": [
            "total members in list is 7\n",
            "6\n",
            "14\n",
            "2 15\n",
            "total members in list is 8\n",
            "2234\n"
          ]
        }
      ]
    },
    {
      "cell_type": "markdown",
      "source": [
        "print(f\"total members in list is {len(a)}\" it is basically saying i want the lenght if the variable a which is 7\n",
        "\n",
        "for print(a[2]) the list start from 0 1 2 so it becomces 1 4 6 so the answer is 6\n",
        "\n",
        "a[5]=14\n",
        "print(a[5])\n",
        "\n",
        "it Means that your are replacing it to a new number in position [5] which will be 15\n",
        "\n",
        "print(min(a),max(a)) it is the min and max of the entire list\n",
        "\n",
        "a.append(2234) it means the bumber 2234 been added\n"
      ],
      "metadata": {
        "id": "NWYr8I0iUOcv"
      }
    },
    {
      "cell_type": "code",
      "source": [
        "gvariable=10\n",
        "def listsum(numList):\n",
        "\n",
        "\n",
        "  global gvariable\n",
        "  gvariable =20\n",
        "  print(f\"value of the gvariable is {gvariable}\")\n",
        "  theSum=0 # this a variable to hold sum\n",
        "  for i in numList:  # for loop to access all the list members\n",
        "    theSum=theSum+i  # to sum all the members\n",
        "  count=len(numList)\n",
        "  print(f\"count of the  list is {count}\")\n",
        "  return theSum,count # return the sum\n",
        "\n",
        "print(f\"value of g variable before callin the function {gvariable}\")\n",
        "mylist=[3,14,5,6,17,8,19,0]\n",
        "Sm,cnt=listsum(mylist)\n",
        "print(f\"sum of the list is {Sm}\")\n",
        "print(f\"count of the list is {cnt}\")\n",
        "print(f\"value of g variable after callin the function {gvariable}\")\n",
        "\n"
      ],
      "metadata": {
        "colab": {
          "base_uri": "https://localhost:8080/"
        },
        "id": "qUES650HXs-r",
        "outputId": "8354d500-a670-4a05-bf35-603d48ffebcb"
      },
      "execution_count": 17,
      "outputs": [
        {
          "output_type": "stream",
          "name": "stdout",
          "text": [
            "value of g variable before callin the function 10\n",
            "value of the gvariable is 20\n",
            "count of the  list is 8\n",
            "sum of the list is 72\n",
            "count of the list is 8\n",
            "value of g variable after callin the function 20\n"
          ]
        }
      ]
    },
    {
      "cell_type": "markdown",
      "source": [
        "print(f\"value of g variable before callin the function {gvariable}\") this as it says before it was in the function it was 10\n",
        "\n",
        "Sm,cnt=listsum(mylist)\n",
        "print(f\"sum of the list is {Sm}\") it means from (mylist=[3,14,5,6,17,8,19,0]) it wants total amount of diffrent variable within the list which is 8"
      ],
      "metadata": {
        "id": "lrxBPd2xXvue"
      }
    }
  ]
}